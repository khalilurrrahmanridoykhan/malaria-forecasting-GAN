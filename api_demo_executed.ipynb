{
 "cells": [
  {
   "cell_type": "markdown",
   "id": "a1a5ad1d",
   "metadata": {},
   "source": [
    "# Malaria Forecasting API Demo\n",
    "\n",
    "This notebook demonstrates how to use the FastAPI-based malaria forecasting service that predicts PV, PF, and mixed malaria rates using climate indicators and GAN-based models.\n",
    "\n",
    "## Features Demonstrated:\n",
    "- Model discovery and metadata\n",
    "- Single upazila predictions with uncertainty bounds\n",
    "- Bulk predictions for all available upazilas\n",
    "- Error handling for missing data\n",
    "- Results visualization"
   ]
  },
  {
   "cell_type": "markdown",
   "id": "a308a571",
   "metadata": {},
   "source": [
    "## Setup and Imports"
   ]
  },
  {
   "cell_type": "code",
   "execution_count": 1,
   "id": "58617894",
   "metadata": {
    "execution": {
     "iopub.execute_input": "2025-09-23T02:04:54.536521Z",
     "iopub.status.busy": "2025-09-23T02:04:54.536446Z",
     "iopub.status.idle": "2025-09-23T02:05:09.816719Z",
     "shell.execute_reply": "2025-09-23T02:05:09.816228Z"
    }
   },
   "outputs": [
    {
     "name": "stdout",
     "output_type": "stream",
     "text": [
      "Demo setup complete!\n"
     ]
    }
   ],
   "source": [
    "import requests\n",
    "import json\n",
    "import pandas as pd\n",
    "import matplotlib.pyplot as plt\n",
    "import seaborn as sns\n",
    "from datetime import datetime\n",
    "\n",
    "# Set up plotting style\n",
    "plt.style.use('default')\n",
    "sns.set_palette(\"husl\")\n",
    "\n",
    "# API base URL (adjust if running on different host/port)\n",
    "BASE_URL = \"http://127.0.0.1:8000\"\n",
    "\n",
    "print(\"Demo setup complete!\")"
   ]
  },
  {
   "cell_type": "markdown",
   "id": "00aabb28",
   "metadata": {},
   "source": [
    "## 1. Explore Available Models\n",
    "\n",
    "Let's first check what malaria forecasting models are available and their performance metrics."
   ]
  },
  {
   "cell_type": "code",
   "execution_count": 2,
   "id": "f7113ad2",
   "metadata": {
    "execution": {
     "iopub.execute_input": "2025-09-23T02:05:09.819492Z",
     "iopub.status.busy": "2025-09-23T02:05:09.819339Z",
     "iopub.status.idle": "2025-09-23T02:05:09.842072Z",
     "shell.execute_reply": "2025-09-23T02:05:09.841498Z"
    }
   },
   "outputs": [
    {
     "name": "stdout",
     "output_type": "stream",
     "text": [
      "Available Malaria Forecasting Models:\n",
      "==================================================\n",
      "\n",
      "Model ID: target_pv\n",
      "Target: pv_rate\n",
      "Friendly Name: Target_PV_over_Pop\n",
      "Upazilas Available: 71\n",
      "Predictions Stored: 0\n",
      "Performance Metrics:\n",
      ".3f\n",
      ".3f\n",
      ".3f\n",
      ".3f\n",
      ".3f\n",
      "------------------------------\n",
      "\n",
      "Model ID: target_pf\n",
      "Target: pf_rate\n",
      "Friendly Name: Target_PF_over_Pop\n",
      "Upazilas Available: 71\n",
      "Predictions Stored: 0\n",
      "Performance Metrics:\n",
      ".3f\n",
      ".3f\n",
      ".3f\n",
      ".3f\n",
      ".3f\n",
      "------------------------------\n",
      "\n",
      "Model ID: target_mixed\n",
      "Target: mixed_rate\n",
      "Friendly Name: Target_MIXED_over_Pop\n",
      "Upazilas Available: 71\n",
      "Predictions Stored: 0\n",
      "Performance Metrics:\n",
      ".3f\n",
      ".3f\n",
      ".3f\n",
      ".3f\n",
      ".3f\n",
      "------------------------------\n"
     ]
    }
   ],
   "source": [
    "# Fetch available models\n",
    "response = requests.get(f\"{BASE_URL}/models\")\n",
    "models = response.json()\n",
    "\n",
    "print(\"Available Malaria Forecasting Models:\")\n",
    "print(\"=\" * 50)\n",
    "\n",
    "for model in models:\n",
    "    print(f\"\\nModel ID: {model['id']}\")\n",
    "    print(f\"Target: {model['target_col']}\")\n",
    "    print(f\"Friendly Name: {model['friendly_name']}\")\n",
    "    print(f\"Upazilas Available: {len(model['upazila_ids'])}\")\n",
    "    print(f\"Predictions Stored: {model['num_predictions']}\")\n",
    "\n",
    "    # Display key metrics\n",
    "    metrics = model['metrics']\n",
    "    print(\"Performance Metrics:\")\n",
    "    print(\".3f\")\n",
    "    print(\".3f\")\n",
    "    print(\".3f\")\n",
    "    print(\".3f\")\n",
    "    print(\".3f\")\n",
    "    print(\"-\" * 30)"
   ]
  },
  {
   "cell_type": "markdown",
   "id": "195afb8a",
   "metadata": {},
   "source": [
    "## 2. Single Prediction Demo\n",
    "\n",
    "Let's make a prediction for a specific upazila. We'll use upazila 121 (which we know has climate data available) and predict for January 2025."
   ]
  },
  {
   "cell_type": "code",
   "execution_count": 3,
   "id": "e0300c71",
   "metadata": {
    "execution": {
     "iopub.execute_input": "2025-09-23T02:05:09.843429Z",
     "iopub.status.busy": "2025-09-23T02:05:09.843237Z",
     "iopub.status.idle": "2025-09-23T02:05:09.910398Z",
     "shell.execute_reply": "2025-09-23T02:05:09.910117Z"
    }
   },
   "outputs": [
    {
     "name": "stdout",
     "output_type": "stream",
     "text": [
      "Making prediction for Upazila 121, 2025-01\n",
      "Model: target_pv\n",
      "----------------------------------------\n",
      "✅ Prediction successful!\n",
      "Upazila ID: 121\n",
      ".2e\n",
      ".2e\n",
      ".2e\n",
      ".2e\n"
     ]
    }
   ],
   "source": [
    "# Single prediction example\n",
    "model_id = \"target_pv\"  # Plasmodium vivax\n",
    "upazila_id = 121\n",
    "year = 2025\n",
    "month = 1\n",
    "\n",
    "prediction_data = {\n",
    "    \"upazila_id\": upazila_id,\n",
    "    \"year\": year,\n",
    "    \"month\": month\n",
    "}\n",
    "\n",
    "print(f\"Making prediction for Upazila {upazila_id}, {year}-{month:02d}\")\n",
    "print(f\"Model: {model_id}\")\n",
    "print(\"-\" * 40)\n",
    "\n",
    "try:\n",
    "    response = requests.post(\n",
    "        f\"{BASE_URL}/models/{model_id}/predict\",\n",
    "        json=prediction_data,\n",
    "        headers={\"Content-Type\": \"application/json\"}\n",
    "    )\n",
    "\n",
    "    if response.status_code == 200:\n",
    "        result = response.json()\n",
    "        print(\"✅ Prediction successful!\")\n",
    "        print(f\"Upazila ID: {result['upazila_id']}\")\n",
    "        print(\".2e\")\n",
    "        print(\".2e\")\n",
    "        print(\".2e\")\n",
    "\n",
    "        # Calculate uncertainty range\n",
    "        uncertainty_range = result['upper_bound'] - result['lower_bound']\n",
    "        print(\".2e\")\n",
    "\n",
    "    else:\n",
    "        print(f\"❌ Error: {response.status_code}\")\n",
    "        print(response.text)\n",
    "\n",
    "except Exception as e:\n",
    "    print(f\"❌ Connection error: {e}\")"
   ]
  },
  {
   "cell_type": "markdown",
   "id": "23b12817",
   "metadata": {},
   "source": [
    "## 3. Bulk Prediction Demo\n",
    "\n",
    "Now let's get predictions for all available upazilas in a single request. This is useful for generating regional malaria forecasts."
   ]
  },
  {
   "cell_type": "code",
   "execution_count": 4,
   "id": "bb84e7e4",
   "metadata": {
    "execution": {
     "iopub.execute_input": "2025-09-23T02:05:09.911639Z",
     "iopub.status.busy": "2025-09-23T02:05:09.911544Z",
     "iopub.status.idle": "2025-09-23T02:05:09.958521Z",
     "shell.execute_reply": "2025-09-23T02:05:09.958163Z"
    }
   },
   "outputs": [
    {
     "name": "stdout",
     "output_type": "stream",
     "text": [
      "Making bulk predictions for all upazilas, 2025-01\n",
      "Model: target_pv\n",
      "--------------------------------------------------\n",
      "✅ Bulk prediction completed!\n",
      "Successful predictions: 1\n",
      "Failed predictions: 70\n",
      "\n",
      "Sample successful predictions:\n",
      "Upazila 121: -2.39e-08 (±1.32e-07)\n",
      "\n",
      "Failed predictions (showing first 3):\n",
      "Upazila 122: Not enough historical data (need 12 months)\n",
      "Upazila 123: Not enough historical data (need 12 months)\n",
      "Upazila 124: Not enough historical data (need 12 months)\n"
     ]
    }
   ],
   "source": [
    "# Bulk prediction example\n",
    "bulk_data = {\n",
    "    \"year\": 2025,\n",
    "    \"month\": 1\n",
    "}\n",
    "\n",
    "print(f\"Making bulk predictions for all upazilas, {bulk_data['year']}-{bulk_data['month']:02d}\")\n",
    "print(f\"Model: {model_id}\")\n",
    "print(\"-\" * 50)\n",
    "\n",
    "try:\n",
    "    response = requests.post(\n",
    "        f\"{BASE_URL}/models/{model_id}/predict_all\",\n",
    "        json=bulk_data,\n",
    "        headers={\"Content-Type\": \"application/json\"}\n",
    "    )\n",
    "\n",
    "    if response.status_code == 200:\n",
    "        results = response.json()\n",
    "\n",
    "        # Separate successful and failed predictions\n",
    "        successful = [r for r in results if 'predicted_rate' in r]\n",
    "        failed = [r for r in results if 'error' in r]\n",
    "\n",
    "        print(f\"✅ Bulk prediction completed!\")\n",
    "        print(f\"Successful predictions: {len(successful)}\")\n",
    "        print(f\"Failed predictions: {len(failed)}\")\n",
    "        print()\n",
    "\n",
    "        if successful:\n",
    "            print(\"Sample successful predictions:\")\n",
    "            for pred in successful[:3]:  # Show first 3\n",
    "                print(f\"Upazila {pred['upazila_id']}: {pred['predicted_rate']:.2e} \"\n",
    "                      f\"(±{pred['upper_bound']-pred['lower_bound']:.2e})\")\n",
    "\n",
    "        if failed:\n",
    "            print(f\"\\nFailed predictions (showing first 3):\")\n",
    "            for fail in failed[:3]:\n",
    "                print(f\"Upazila {fail['upazila_id']}: {fail['error']}\")\n",
    "\n",
    "        # Store results for visualization\n",
    "        bulk_results = results\n",
    "\n",
    "    else:\n",
    "        print(f\"❌ Error: {response.status_code}\")\n",
    "        print(response.text)\n",
    "\n",
    "except Exception as e:\n",
    "    print(f\"❌ Connection error: {e}\")"
   ]
  },
  {
   "cell_type": "markdown",
   "id": "81eb72af",
   "metadata": {},
   "source": [
    "## 4. Results Visualization\n",
    "\n",
    "Let's visualize the bulk prediction results to better understand the malaria risk distribution."
   ]
  },
  {
   "cell_type": "code",
   "execution_count": 5,
   "id": "88076a70",
   "metadata": {
    "execution": {
     "iopub.execute_input": "2025-09-23T02:05:09.959855Z",
     "iopub.status.busy": "2025-09-23T02:05:09.959764Z",
     "iopub.status.idle": "2025-09-23T02:05:10.630492Z",
     "shell.execute_reply": "2025-09-23T02:05:10.630159Z"
    }
   },
   "outputs": [
    {
     "data": {
      "image/png": "[encoded data removed]",
      "text/plain": [
       "<Figure size 1500x600 with 2 Axes>"
      ]
     },
     "metadata": {},
     "output_type": "display_data"
    },
    {
     "name": "stdout",
     "output_type": "stream",
     "text": [
      "Summary Statistics:\n",
      "------------------------------\n",
      ".2e\n",
      ".2e\n",
      ".2e\n",
      "Number of upazilas with predictions: 1\n"
     ]
    }
   ],
   "source": [
    "# Create DataFrame from bulk results\n",
    "if 'bulk_results' in locals():\n",
    "    df_results = pd.DataFrame([r for r in bulk_results if 'predicted_rate' in r])\n",
    "\n",
    "    if not df_results.empty:\n",
    "        # Create visualization\n",
    "        fig, (ax1, ax2) = plt.subplots(1, 2, figsize=(15, 6))\n",
    "\n",
    "        # Plot 1: Predicted rates\n",
    "        ax1.bar(df_results['upazila_id'].astype(str), df_results['predicted_rate'],\n",
    "                color='skyblue', alpha=0.7)\n",
    "        ax1.set_title('Predicted Malaria Rates by Upazila')\n",
    "        ax1.set_xlabel('Upazila ID')\n",
    "        ax1.set_ylabel('Predicted Rate')\n",
    "        ax1.tick_params(axis='x', rotation=45)\n",
    "\n",
    "        # Plot 2: Uncertainty ranges\n",
    "        uncertainty = df_results['upper_bound'] - df_results['lower_bound']\n",
    "        ax2.bar(df_results['upazila_id'].astype(str), uncertainty,\n",
    "                color='lightcoral', alpha=0.7)\n",
    "        ax2.set_title('Prediction Uncertainty by Upazila')\n",
    "        ax2.set_xlabel('Upazila ID')\n",
    "        ax2.set_ylabel('Uncertainty Range')\n",
    "        ax2.tick_params(axis='x', rotation=45)\n",
    "\n",
    "        plt.tight_layout()\n",
    "        plt.show()\n",
    "\n",
    "        # Summary statistics\n",
    "        print(\"Summary Statistics:\")\n",
    "        print(\"-\" * 30)\n",
    "        print(\".2e\")\n",
    "        print(\".2e\")\n",
    "        print(\".2e\")\n",
    "        print(f\"Number of upazilas with predictions: {len(df_results)}\")\n",
    "\n",
    "    else:\n",
    "        print(\"No successful predictions to visualize\")\n",
    "else:\n",
    "    print(\"Run the bulk prediction first to generate visualization data\")"
   ]
  },
  {
   "cell_type": "markdown",
   "id": "cd572129",
   "metadata": {},
   "source": [
    "## 5. Error Handling and Edge Cases\n",
    "\n",
    "Let's test some edge cases and error conditions to understand the API's robustness."
   ]
  },
  {
   "cell_type": "code",
   "execution_count": 6,
   "id": "7440c142",
   "metadata": {
    "execution": {
     "iopub.execute_input": "2025-09-23T02:05:10.632256Z",
     "iopub.status.busy": "2025-09-23T02:05:10.631917Z",
     "iopub.status.idle": "2025-09-23T02:05:10.665142Z",
     "shell.execute_reply": "2025-09-23T02:05:10.664791Z"
    }
   },
   "outputs": [
    {
     "name": "stdout",
     "output_type": "stream",
     "text": [
      "Testing Error Cases:\n",
      "========================================\n",
      "1. Testing invalid model ID:\n",
      "Status: 404\n",
      "Error: Unknown model id\n",
      "\n",
      "2. Testing invalid upazila ID:\n",
      "Status: 400\n",
      "Error: No climate data for this upazila\n",
      "\n",
      "3. Testing future date:\n",
      "Status: 200\n",
      ".2e\n",
      "\n",
      "Error testing complete!\n"
     ]
    }
   ],
   "source": [
    "# Test error cases\n",
    "print(\"Testing Error Cases:\")\n",
    "print(\"=\" * 40)\n",
    "\n",
    "# Test 1: Invalid model ID\n",
    "print(\"1. Testing invalid model ID:\")\n",
    "response = requests.post(\n",
    "    f\"{BASE_URL}/models/invalid_model/predict\",\n",
    "    json={\"upazila_id\": 121, \"year\": 2025, \"month\": 1}\n",
    ")\n",
    "print(f\"Status: {response.status_code}\")\n",
    "if response.status_code != 200:\n",
    "    print(f\"Error: {response.json().get('detail', 'Unknown error')}\")\n",
    "\n",
    "# Test 2: Invalid upazila ID\n",
    "print(\"\\n2. Testing invalid upazila ID:\")\n",
    "response = requests.post(\n",
    "    f\"{BASE_URL}/models/{model_id}/predict\",\n",
    "    json={\"upazila_id\": 99999, \"year\": 2025, \"month\": 1}\n",
    ")\n",
    "print(f\"Status: {response.status_code}\")\n",
    "if response.status_code != 200:\n",
    "    try:\n",
    "        error_detail = response.json().get('detail', 'Unknown error')\n",
    "        print(f\"Error: {error_detail}\")\n",
    "    except:\n",
    "        print(f\"Error: {response.text}\")\n",
    "\n",
    "# Test 3: Future date (should work if climate data available)\n",
    "print(\"\\n3. Testing future date:\")\n",
    "response = requests.post(\n",
    "    f\"{BASE_URL}/models/{model_id}/predict\",\n",
    "    json={\"upazila_id\": 121, \"year\": 2030, \"month\": 6}\n",
    ")\n",
    "print(f\"Status: {response.status_code}\")\n",
    "if response.status_code == 200:\n",
    "    result = response.json()\n",
    "    print(\".2e\")\n",
    "else:\n",
    "    print(f\"Error: {response.json().get('detail', 'Unknown error')}\")\n",
    "\n",
    "print(\"\\nError testing complete!\")"
   ]
  },
  {
   "cell_type": "markdown",
   "id": "8aebebce",
   "metadata": {},
   "source": [
    "## 6. Conclusion\n",
    "\n",
    "This demo has shown how to effectively use the malaria forecasting API for:\n",
    "\n",
    "✅ **Model Discovery**: Check available models and their performance metrics  \n",
    "✅ **Single Predictions**: Get forecasts for specific upazilas with uncertainty bounds  \n",
    "✅ **Bulk Predictions**: Generate regional forecasts for all available areas  \n",
    "✅ **Data Visualization**: Analyze prediction results and uncertainty distributions  \n",
    "✅ **Error Handling**: Understand API limitations and error conditions  \n",
    "\n",
    "### Key Takeaways:\n",
    "- The API uses GAN-based models trained on climate indicators (temperature, rainfall, humidity, NDVI, NDWI)\n",
    "- Predictions include uncertainty bounds for risk assessment\n",
    "- Only upazilas with sufficient historical climate data can be predicted\n",
    "- The system handles missing data gracefully with informative error messages\n",
    "\n",
    "### API Endpoints Summary:\n",
    "- `GET /models` - List all available models\n",
    "- `GET /models/{model_id}` - Get specific model details\n",
    "- `POST /models/{model_id}/predict` - Single upazila prediction\n",
    "- `POST /models/{model_id}/predict_all` - Bulk prediction for all upazilas\n",
    "\n",
    "The API is now ready for integration into malaria surveillance systems, early warning dashboards, or research applications!"
   ]
  }
 ],
 "metadata": {
  "language_info": {
   "codemirror_mode": {
    "name": "ipython",
    "version": 3
   },
   "file_extension": ".py",
   "mimetype": "text/x-python",
   "name": "python",
   "nbconvert_exporter": "python",
   "pygments_lexer": "ipython3",
   "version": "3.12.4"
  }
 },
 "nbformat": 4,
 "nbformat_minor": 5
}
